{
 "cells": [
  {
   "cell_type": "code",
   "execution_count": null,
   "metadata": {},
   "outputs": [],
   "source": [
    "import sys\n",
    "sys.path.append('.')"
   ]
  },
  {
   "cell_type": "code",
   "execution_count": null,
   "metadata": {},
   "outputs": [],
   "source": [
    "%load_ext autoreload\n",
    "%autoreload 2"
   ]
  },
  {
   "cell_type": "code",
   "execution_count": null,
   "metadata": {},
   "outputs": [],
   "source": [
    "from dotenv import load_dotenv\n",
    "load_dotenv(override=True)\n"
   ]
  },
  {
   "cell_type": "code",
   "execution_count": null,
   "metadata": {},
   "outputs": [],
   "source": [
    "from copilot_studio_agent import CopilotAgent\n",
    "from directline_client import DirectLineClient\n",
    "import os\n",
    "\n",
    "client = DirectLineClient(\n",
    "    copilot_agent_secret=os.getenv(\"BOT_SECRET\"),\n",
    "    directline_endpoint=\"https://europe.directline.botframework.com/v3/directline\"\n",
    ")\n",
    "\n",
    "agent = CopilotAgent(\n",
    "    id=\"copilot_studio\",\n",
    "    name=\"copilot_studio\",\n",
    "    description=\"copilot_studio\",\n",
    "    directline_client=client,\n",
    ")"
   ]
  },
  {
   "cell_type": "code",
   "execution_count": null,
   "metadata": {},
   "outputs": [],
   "source": [
    "from copilot_studio_agent_thread import CopilotAgentThread\n",
    "import logging\n",
    "logging.basicConfig(level=logging.INFO)\n",
    "\n",
    "thread = CopilotAgentThread(\n",
    "    directline_client=client,\n",
    ")\n",
    "\n",
    "async for message in agent.invoke(messages=\"How to hard reset my Surface 4?\", thread=thread):\n",
    "    print(message)"
   ]
  },
  {
   "cell_type": "code",
   "execution_count": null,
   "metadata": {},
   "outputs": [],
   "source": [
    "await thread.update_watermark(None)\n",
    "await thread.get_messages()"
   ]
  }
 ],
 "metadata": {
  "kernelspec": {
   "display_name": "Python 3",
   "language": "python",
   "name": "python3"
  },
  "language_info": {
   "codemirror_mode": {
    "name": "ipython",
    "version": 3
   },
   "file_extension": ".py",
   "mimetype": "text/x-python",
   "name": "python",
   "nbconvert_exporter": "python",
   "pygments_lexer": "ipython3",
   "version": "3.12.9"
  }
 },
 "nbformat": 4,
 "nbformat_minor": 2
}
