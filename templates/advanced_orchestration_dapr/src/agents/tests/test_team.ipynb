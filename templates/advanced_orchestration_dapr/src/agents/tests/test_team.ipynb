{
 "cells": [
  {
   "cell_type": "code",
   "execution_count": null,
   "id": "f54ddcab",
   "metadata": {},
   "outputs": [],
   "source": [
    "import sys\n",
    "sys.path.append('..')"
   ]
  },
  {
   "cell_type": "code",
   "execution_count": null,
   "id": "2df7bf7c",
   "metadata": {},
   "outputs": [],
   "source": [
    "%load_ext autoreload\n",
    "%autoreload 2\n"
   ]
  },
  {
   "cell_type": "code",
   "execution_count": null,
   "id": "28171cb0",
   "metadata": {},
   "outputs": [],
   "source": [
    "from dotenv import load_dotenv\n",
    "load_dotenv(override=True)\n",
    "\n",
    "import logging\n",
    "logging.basicConfig(level=logging.INFO, format='%(asctime)s - %(levelname)s - %(name)s - %(message)s')\n",
    "logging.getLogger(\"speaker_election_strategy\").setLevel(logging.DEBUG)"
   ]
  },
  {
   "cell_type": "code",
   "execution_count": null,
   "id": "1eb9fc13",
   "metadata": {},
   "outputs": [],
   "source": [
    "from telco.telco_team import telco_team, planned_team"
   ]
  },
  {
   "cell_type": "code",
   "execution_count": null,
   "id": "cf87d1d8",
   "metadata": {},
   "outputs": [],
   "source": [
    "from semantic_kernel.agents import ChatHistoryAgentThread\n",
    "from semantic_kernel.contents import ChatHistory\n",
    "thread = ChatHistoryAgentThread(chat_history=ChatHistory(), thread_id=None)"
   ]
  },
  {
   "cell_type": "code",
   "execution_count": null,
   "id": "d2079d2d",
   "metadata": {},
   "outputs": [],
   "source": [
    "# ask = \"Which is your mobile plan?\"\n",
    "ask = \"My customer code is 12345, check my usage and recommend a new plan to save money.\""
   ]
  },
  {
   "cell_type": "code",
   "execution_count": null,
   "id": "c703824f",
   "metadata": {},
   "outputs": [],
   "source": [
    "# res = await telco_team.get_response(messages=[ask], thread=thread)\n",
    "# res.message.content"
   ]
  },
  {
   "cell_type": "code",
   "execution_count": null,
   "id": "1adc5be7",
   "metadata": {},
   "outputs": [],
   "source": [
    "results = []\n",
    "async for message in planned_team.invoke(messages=[ask], thread=thread):\n",
    "    # pass\n",
    "    # print(message.content)\n",
    "    results.append(message.content)"
   ]
  },
  {
   "cell_type": "code",
   "execution_count": null,
   "id": "df6031c8",
   "metadata": {},
   "outputs": [],
   "source": [
    "for msg in results:\n",
    "    print(f\"[{msg.name or 'USER'}]({msg.role}): {msg.content or msg.model_dump_json()}\")"
   ]
  },
  {
   "cell_type": "code",
   "execution_count": null,
   "id": "688ef82f",
   "metadata": {},
   "outputs": [],
   "source": [
    "async for msg in thread.get_messages():\n",
    "    print(f\"[{msg.name or 'USER'}]({msg.role}): {msg.content or msg.model_dump_json()}\")"
   ]
  }
 ],
 "metadata": {
  "kernelspec": {
   "display_name": "Python 3",
   "language": "python",
   "name": "python3"
  },
  "language_info": {
   "codemirror_mode": {
    "name": "ipython",
    "version": 3
   },
   "file_extension": ".py",
   "mimetype": "text/x-python",
   "name": "python",
   "nbconvert_exporter": "python",
   "pygments_lexer": "ipython3",
   "version": "3.12.9"
  }
 },
 "nbformat": 4,
 "nbformat_minor": 5
}
