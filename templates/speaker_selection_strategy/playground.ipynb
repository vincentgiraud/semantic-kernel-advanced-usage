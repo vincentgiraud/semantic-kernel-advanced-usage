{
 "cells": [
  {
   "cell_type": "code",
   "execution_count": null,
   "id": "c153b141",
   "metadata": {},
   "outputs": [],
   "source": [
    "%load_ext autoreload\n",
    "%autoreload 2"
   ]
  },
  {
   "cell_type": "code",
   "execution_count": null,
   "id": "1b5c4874",
   "metadata": {},
   "outputs": [],
   "source": [
    "from dotenv import load_dotenv\n",
    "load_dotenv(override=True)"
   ]
  },
  {
   "cell_type": "code",
   "execution_count": null,
   "id": "3853d5d0",
   "metadata": {},
   "outputs": [],
   "source": [
    "from telco.activation_agent import activation_agent\n",
    "from telco.billing import billing_agent \n",
    "from telco.sales import sales_agent\n",
    "from telco.technical import technical_agent\n",
    "from telco.user import user_agent\n",
    "\n",
    "from sk_ext.speaker_election_strategy import SpeakerElectionStrategy\n",
    "from sk_ext.basic_kernel import create_kernel\n",
    "from sk_ext.termination_strategy import UserInputRequiredTerminationStrategy"
   ]
  },
  {
   "cell_type": "markdown",
   "id": "9431c767",
   "metadata": {},
   "source": [
    "This is a very basic example of `AgentGroupChat` using the new speaker election strategy.\n",
    "\n",
    "Additionally, in this case we use a custom `termination_strategy` to stop the conversation when a specific agent is chosen - in this case, the `User` agent, which will always pause the conversation to allow further input from the user."
   ]
  },
  {
   "cell_type": "code",
   "execution_count": null,
   "id": "b6f656f4",
   "metadata": {},
   "outputs": [],
   "source": [
    "from semantic_kernel.agents import AgentGroupChat\n",
    "\n",
    "kernel = create_kernel()\n",
    "\n",
    "chat = AgentGroupChat(\n",
    "    agents=[\n",
    "        activation_agent,\n",
    "        billing_agent,\n",
    "        sales_agent,\n",
    "        technical_agent,\n",
    "        user_agent\n",
    "    ],\n",
    "    selection_strategy=SpeakerElectionStrategy(\n",
    "        kernel=kernel\n",
    "    ),\n",
    "    termination_strategy=UserInputRequiredTerminationStrategy(\n",
    "        kernel=kernel,\n",
    "        stop_agents=[user_agent]\n",
    "    )\n",
    ")"
   ]
  },
  {
   "cell_type": "code",
   "execution_count": null,
   "id": "cffd47d7",
   "metadata": {},
   "outputs": [],
   "source": [
    "# NOTE resetting is useful to clear the chat history, as AgentGroupChat is stateful\n",
    "await chat.reset()\n",
    "await chat.add_chat_message(\"Which are your mobile plans?\")\n",
    "\n",
    "async for step in chat.invoke():\n",
    "    print(step)"
   ]
  }
 ],
 "metadata": {
  "kernelspec": {
   "display_name": "Python 3",
   "language": "python",
   "name": "python3"
  },
  "language_info": {
   "codemirror_mode": {
    "name": "ipython",
    "version": 3
   },
   "file_extension": ".py",
   "mimetype": "text/x-python",
   "name": "python",
   "nbconvert_exporter": "python",
   "pygments_lexer": "ipython3",
   "version": "3.12.9"
  }
 },
 "nbformat": 4,
 "nbformat_minor": 5
}
